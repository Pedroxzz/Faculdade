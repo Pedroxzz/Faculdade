{
 "cells": [
  {
   "attachments": {},
   "cell_type": "markdown",
   "metadata": {},
   "source": [
    "# DICIONÁRIOS EM PYTHON\n",
    "São estruturas que armazenam sempre um par de dados chamados por chave e valor. Para criarmos um\n",
    "Dicionário usamos as chaves { }"
   ]
  },
  {
   "cell_type": "code",
   "execution_count": 22,
   "metadata": {},
   "outputs": [],
   "source": [
    "pessoas = {'Laura':18,'Eduardo':32,'Ana':40,'Mariana':25}"
   ]
  },
  {
   "cell_type": "code",
   "execution_count": 23,
   "metadata": {},
   "outputs": [
    {
     "data": {
      "text/plain": [
       "dict"
      ]
     },
     "execution_count": 23,
     "metadata": {},
     "output_type": "execute_result"
    }
   ],
   "source": [
    "type(pessoas)"
   ]
  },
  {
   "cell_type": "code",
   "execution_count": 24,
   "metadata": {},
   "outputs": [
    {
     "data": {
      "text/plain": [
       "{'Laura': 18, 'Eduardo': 32, 'Ana': 40, 'Mariana': 25}"
      ]
     },
     "execution_count": 24,
     "metadata": {},
     "output_type": "execute_result"
    }
   ],
   "source": [
    "pessoas"
   ]
  },
  {
   "cell_type": "code",
   "execution_count": 25,
   "metadata": {},
   "outputs": [
    {
     "data": {
      "text/plain": [
       "32"
      ]
     },
     "execution_count": 25,
     "metadata": {},
     "output_type": "execute_result"
    }
   ],
   "source": [
    "pessoas['Eduardo']"
   ]
  },
  {
   "cell_type": "code",
   "execution_count": 26,
   "metadata": {},
   "outputs": [
    {
     "data": {
      "text/plain": [
       "dict_keys(['Laura', 'Eduardo', 'Ana', 'Mariana'])"
      ]
     },
     "execution_count": 26,
     "metadata": {},
     "output_type": "execute_result"
    }
   ],
   "source": [
    "pessoas.keys()  #retorna as chaves do dicionário"
   ]
  },
  {
   "cell_type": "code",
   "execution_count": 27,
   "metadata": {},
   "outputs": [
    {
     "data": {
      "text/plain": [
       "dict_values([18, 32, 40, 25])"
      ]
     },
     "execution_count": 27,
     "metadata": {},
     "output_type": "execute_result"
    }
   ],
   "source": [
    "pessoas.values()    #retorna os valores das chaves"
   ]
  },
  {
   "cell_type": "code",
   "execution_count": 28,
   "metadata": {},
   "outputs": [
    {
     "data": {
      "text/plain": [
       "dict_items([('Laura', 18), ('Eduardo', 32), ('Ana', 40), ('Mariana', 25)])"
      ]
     },
     "execution_count": 28,
     "metadata": {},
     "output_type": "execute_result"
    }
   ],
   "source": [
    "pessoas.items() #retorna todas as chaves e valores"
   ]
  },
  {
   "cell_type": "code",
   "execution_count": 29,
   "metadata": {},
   "outputs": [
    {
     "name": "stdout",
     "output_type": "stream",
     "text": [
      "{'Laura': 18, 'Eduardo': 32, 'Ana': 40, 'Mariana': 25, 'Leonardo': 30}\n"
     ]
    }
   ],
   "source": [
    "pessoas['Leonardo'] = 30 #insere um novo par (chave/valor)\n",
    "print(pessoas)"
   ]
  },
  {
   "cell_type": "code",
   "execution_count": 30,
   "metadata": {},
   "outputs": [],
   "source": [
    "pessoas['Ana'] = 64 #altera o valor da chave \"Ana\""
   ]
  },
  {
   "cell_type": "code",
   "execution_count": 31,
   "metadata": {},
   "outputs": [
    {
     "data": {
      "text/plain": [
       "{'Laura': 18, 'Eduardo': 32, 'Ana': 64, 'Mariana': 25, 'Leonardo': 30}"
      ]
     },
     "execution_count": 31,
     "metadata": {},
     "output_type": "execute_result"
    }
   ],
   "source": [
    "pessoas"
   ]
  },
  {
   "cell_type": "code",
   "execution_count": 32,
   "metadata": {},
   "outputs": [],
   "source": [
    "del pessoas['Mariana'] #apaga a chave indicada"
   ]
  },
  {
   "cell_type": "code",
   "execution_count": 33,
   "metadata": {},
   "outputs": [
    {
     "data": {
      "text/plain": [
       "{'Laura': 18, 'Eduardo': 32, 'Ana': 64, 'Leonardo': 30}"
      ]
     },
     "execution_count": 33,
     "metadata": {},
     "output_type": "execute_result"
    }
   ],
   "source": [
    "pessoas"
   ]
  },
  {
   "cell_type": "code",
   "execution_count": 34,
   "metadata": {},
   "outputs": [
    {
     "name": "stdout",
     "output_type": "stream",
     "text": [
      "Laura tem 18 anos\n",
      "Eduardo tem 32 anos\n",
      "Ana tem 64 anos\n",
      "Leonardo tem 30 anos\n"
     ]
    }
   ],
   "source": [
    "#imprimindo os dados do dicionario\n",
    "for k,v in pessoas.items():\n",
    "    print(f'{k} tem {v} anos')"
   ]
  },
  {
   "cell_type": "code",
   "execution_count": 40,
   "metadata": {},
   "outputs": [
    {
     "name": "stdout",
     "output_type": "stream",
     "text": [
      "nome: José\n",
      "idade: 25\n",
      "salario: 2500.0\n"
     ]
    }
   ],
   "source": [
    "#CARREGANDO UM DICIONÁRIO PELO TECLADO\n",
    "\n",
    "dados = dict()  #cria um dicionarioo vazio\n",
    "\n",
    "dados = {}  #cria um dicionarioo vazio\n",
    "\n",
    "dados['nome'] = input('Nome: ')\n",
    "dados['idade'] = int(input('Idade: '))\n",
    "dados['salario'] = float(input('Salário: '))\n",
    "\n",
    "for x,y in dados.items():\n",
    "    print(f'{x}: {y}')\n"
   ]
  },
  {
   "cell_type": "code",
   "execution_count": 41,
   "metadata": {},
   "outputs": [],
   "source": [
    "cadastro = {'nome':'Fernanda', 'profissao':'Advogada', 'sexo':'F','idade':32}"
   ]
  },
  {
   "cell_type": "code",
   "execution_count": 42,
   "metadata": {},
   "outputs": [
    {
     "name": "stdout",
     "output_type": "stream",
     "text": [
      "nome = Fernanda\n",
      "profissao = Advogada\n",
      "sexo = F\n",
      "idade = 32\n"
     ]
    }
   ],
   "source": [
    "for k,v in cadastro.items():\n",
    "    print(f'{k} = {v}')"
   ]
  },
  {
   "attachments": {},
   "cell_type": "markdown",
   "metadata": {},
   "source": [
    "### CARREGANDO DICIONÁRIOS EM UMA LISTA"
   ]
  },
  {
   "cell_type": "code",
   "execution_count": 43,
   "metadata": {},
   "outputs": [
    {
     "name": "stdout",
     "output_type": "stream",
     "text": [
      "{'uf': 'São Paulo', 'sigla': 'SP'}\n",
      "{'uf': 'Rio de Janeiro', 'sigla': 'RJ'}\n",
      "[{'uf': 'São Paulo', 'sigla': 'SP'}, {'uf': 'Rio de Janeiro', 'sigla': 'RJ'}]\n"
     ]
    }
   ],
   "source": [
    "estados1 = {'uf':'São Paulo','sigla':'SP'}\n",
    "estados2 = {'uf':'Rio de Janeiro', 'sigla':'RJ'}\n",
    "\n",
    "brasil = [] #cria uma lista vazia\n",
    "\n",
    "brasil.append(estados1) #insere o dicionário \"estados1\" na lista brasil\n",
    "brasil.append(estados2) #insere o dicionário \"estados2\" na lista brasil\n",
    "\n",
    "print(estados1)\n",
    "print(estados2)\n",
    "print(brasil)\n"
   ]
  },
  {
   "attachments": {},
   "cell_type": "markdown",
   "metadata": {},
   "source": [
    "### PROBLEMAS COM O APPEND( ) NO DICIONÁRIO"
   ]
  },
  {
   "cell_type": "code",
   "execution_count": 45,
   "metadata": {},
   "outputs": [
    {
     "name": "stdout",
     "output_type": "stream",
     "text": [
      "[{'uf': 'São Paulo', 'sigla': 'SP'}, {'uf': 'São Paulo', 'sigla': 'SP'}, {'uf': 'São Paulo', 'sigla': 'SP'}]\n"
     ]
    }
   ],
   "source": [
    "estado = dict() #cria um dicionário vazio\n",
    "brasil = list() #cria uma lista vazia\n",
    "for c in range(3):\n",
    "    estado['uf'] = input('UF: ')\n",
    "    estado['sigla'] = input('Sigla: ')\n",
    "    brasil.append(estado)\n",
    "print(brasil) "
   ]
  },
  {
   "attachments": {},
   "cell_type": "markdown",
   "metadata": {},
   "source": [
    "### RESOLVENDO O PROBLEMA DO APPEND( )"
   ]
  },
  {
   "cell_type": "code",
   "execution_count": null,
   "metadata": {},
   "outputs": [],
   "source": [
    "estado = dict() #cria um dicionário vazio\n",
    "brasil = list() #cria uma lista vazia\n",
    "for c in range(3):\n",
    "    estado['uf'] = input('UF: ')\n",
    "    estado['sigla'] = input('Sigla: ')\n",
    "    brasil.append(estado.copy()) #faz uma cópia do dicionário a cada inserção\n",
    "print(brasil)  \n"
   ]
  },
  {
   "attachments": {},
   "cell_type": "markdown",
   "metadata": {},
   "source": [
    "### ITERANDO A LISTA E O DICIONÁRIO"
   ]
  },
  {
   "cell_type": "code",
   "execution_count": null,
   "metadata": {},
   "outputs": [],
   "source": [
    "for est in brasil: #esse for é da lista\n",
    "    for k,v in est.items(): #esse for é do dicionário\n",
    "        print(f'{k} = {v}')\n"
   ]
  },
  {
   "attachments": {},
   "cell_type": "markdown",
   "metadata": {},
   "source": [
    "### USANDO O GET() NO DICIONÁRIO"
   ]
  },
  {
   "cell_type": "code",
   "execution_count": 46,
   "metadata": {},
   "outputs": [],
   "source": [
    "pessoas = {'Larissa':19, 'Manuela':21, 'Cristiane':39}"
   ]
  },
  {
   "cell_type": "code",
   "execution_count": 47,
   "metadata": {},
   "outputs": [
    {
     "data": {
      "text/plain": [
       "21"
      ]
     },
     "execution_count": 47,
     "metadata": {},
     "output_type": "execute_result"
    }
   ],
   "source": [
    "pessoas.get('Manuela') #retorna o valor, se existir"
   ]
  },
  {
   "cell_type": "code",
   "execution_count": 48,
   "metadata": {},
   "outputs": [
    {
     "name": "stdout",
     "output_type": "stream",
     "text": [
      "Contato existe!\n"
     ]
    }
   ],
   "source": [
    "if pessoas.get('Manuela'):\n",
    "    print('Contato existe!')\n",
    "else:\n",
    "    pessoas['Manuela'] = 45"
   ]
  },
  {
   "cell_type": "code",
   "execution_count": 49,
   "metadata": {},
   "outputs": [],
   "source": [
    "if pessoas.get('Mané'):\n",
    "    print('Contato existe!')\n",
    "else:\n",
    "    pessoas['Mané'] = 45  \n"
   ]
  },
  {
   "cell_type": "code",
   "execution_count": null,
   "metadata": {},
   "outputs": [],
   "source": [
    "pessoas"
   ]
  }
 ],
 "metadata": {
  "kernelspec": {
   "display_name": "Python 3",
   "language": "python",
   "name": "python3"
  },
  "language_info": {
   "codemirror_mode": {
    "name": "ipython",
    "version": 3
   },
   "file_extension": ".py",
   "mimetype": "text/x-python",
   "name": "python",
   "nbconvert_exporter": "python",
   "pygments_lexer": "ipython3",
   "version": "3.11.3"
  },
  "orig_nbformat": 4
 },
 "nbformat": 4,
 "nbformat_minor": 2
}
