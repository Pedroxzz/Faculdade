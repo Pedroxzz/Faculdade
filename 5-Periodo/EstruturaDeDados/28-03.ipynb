{
 "cells": [
  {
   "attachments": {},
   "cell_type": "markdown",
   "metadata": {},
   "source": [
    "# EXERCÍCIO\n",
    "\n",
    "Faça um programa em Python que emita senhas aleatórias para o cliente de um banco. O programa deverá apresentar um menu com as seguintes opções:\n",
    "- 1 - Emitir senhas\n",
    "- 2 - Mostrar senhas\n",
    "- 3 - Chamar senhas\n",
    "- 4 - Sair"
   ]
  },
  {
   "cell_type": "code",
   "execution_count": 4,
   "metadata": {},
   "outputs": [
    {
     "name": "stdout",
     "output_type": "stream",
     "text": [
      "OPÇÕES\n",
      "Selecione uma opção :\n",
      "1 - Emitir Senha\n",
      "2 - Mostrar Senha\n",
      "3 - Chamar Senha\n",
      "4 - Sair\n",
      "\n",
      "Nova senha gerada!\n",
      "\n",
      "Sua senha é 696\n",
      "Selecione uma opção :\n",
      "1 - Emitir Senha\n",
      "2 - Mostrar Senha\n",
      "3 - Chamar Senha\n",
      "4 - Sair\n"
     ]
    },
    {
     "ename": "ValueError",
     "evalue": "invalid literal for int() with base 10: ''",
     "output_type": "error",
     "traceback": [
      "\u001b[1;31m---------------------------------------------------------------------------\u001b[0m",
      "\u001b[1;31mValueError\u001b[0m                                Traceback (most recent call last)",
      "Cell \u001b[1;32mIn[4], line 14\u001b[0m\n\u001b[0;32m     11\u001b[0m \u001b[39mprint\u001b[39m(\u001b[39m\"\u001b[39m\u001b[39m3 - Chamar Senha\u001b[39m\u001b[39m\"\u001b[39m)\n\u001b[0;32m     12\u001b[0m \u001b[39mprint\u001b[39m(\u001b[39m\"\u001b[39m\u001b[39m4 - Sair\u001b[39m\u001b[39m\"\u001b[39m)\n\u001b[1;32m---> 14\u001b[0m op \u001b[39m=\u001b[39m \u001b[39mint\u001b[39;49m(\u001b[39minput\u001b[39;49m(\u001b[39m\"\u001b[39;49m\u001b[39mDigite sua opção :\u001b[39;49m\u001b[39m\"\u001b[39;49m))\n\u001b[0;32m     16\u001b[0m \u001b[39mif\u001b[39;00m op \u001b[39m==\u001b[39m \u001b[39m1\u001b[39m:\n\u001b[0;32m     17\u001b[0m     senha \u001b[39m=\u001b[39m random\u001b[39m.\u001b[39mrandint(\u001b[39m100\u001b[39m, \u001b[39m999\u001b[39m)\n",
      "\u001b[1;31mValueError\u001b[0m: invalid literal for int() with base 10: ''"
     ]
    }
   ],
   "source": [
    "import random\n",
    "\n",
    "senhas = []\n",
    "senha = 0\n",
    "    \n",
    "print('OPÇÕES')\n",
    "while True: \n",
    "    print(\"Selecione uma opção :\")\n",
    "    print(\"1 - Emitir Senha\")\n",
    "    print(\"2 - Mostrar Senha\")\n",
    "    print(\"3 - Chamar Senha\")\n",
    "    print(\"4 - Sair\")\n",
    "\n",
    "    op = int(input(\"Digite sua opção :\"))\n",
    "\n",
    "    if op == 1:\n",
    "        senha = random.randint(100, 999)\n",
    "        senhas.append(senha)\n",
    "        print(\"\\nNova senha gerada!\")\n",
    "        print(f\"Sua senha é {senha}\\n\")\n",
    "    elif op == 2:\n",
    "        print(f\"Senhas na lista : {senhas}\")\n",
    "    elif op == 3:\n",
    "        print(f\"Senha chamada : {senhas[0]}\")\n",
    "        del senhas[0]\n",
    "    elif op == 4:\n",
    "        break\n",
    "    else:\n",
    "        print(\"Opção inválida.\")"
   ]
  }
 ],
 "metadata": {
  "kernelspec": {
   "display_name": "Python 3",
   "language": "python",
   "name": "python3"
  },
  "language_info": {
   "codemirror_mode": {
    "name": "ipython",
    "version": 3
   },
   "file_extension": ".py",
   "mimetype": "text/x-python",
   "name": "python",
   "nbconvert_exporter": "python",
   "pygments_lexer": "ipython3",
   "version": "3.11.1"
  },
  "orig_nbformat": 4
 },
 "nbformat": 4,
 "nbformat_minor": 2
}
