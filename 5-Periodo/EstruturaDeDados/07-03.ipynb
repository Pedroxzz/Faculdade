{
 "cells": [
  {
   "cell_type": "code",
   "execution_count": 16,
   "metadata": {},
   "outputs": [
    {
     "name": "stdout",
     "output_type": "stream",
     "text": [
      "Hello World\n"
     ]
    }
   ],
   "source": [
    "print('Hello World')"
   ]
  },
  {
   "cell_type": "code",
   "execution_count": 17,
   "metadata": {},
   "outputs": [
    {
     "name": "stdout",
     "output_type": "stream",
     "text": [
      "Olá, mundo!\n"
     ]
    }
   ],
   "source": [
    "print(\"Olá, mundo!\");"
   ]
  },
  {
   "cell_type": "code",
   "execution_count": 18,
   "metadata": {},
   "outputs": [
    {
     "name": "stdout",
     "output_type": "stream",
     "text": [
      "45\n"
     ]
    }
   ],
   "source": [
    "print(9 * 5)"
   ]
  },
  {
   "cell_type": "code",
   "execution_count": 19,
   "metadata": {},
   "outputs": [
    {
     "name": "stdout",
     "output_type": "stream",
     "text": [
      "5\n"
     ]
    }
   ],
   "source": [
    "print(10 - 5)"
   ]
  },
  {
   "cell_type": "code",
   "execution_count": 20,
   "metadata": {},
   "outputs": [
    {
     "name": "stdout",
     "output_type": "stream",
     "text": [
      "Noite Noite Noite Noite Noite \n"
     ]
    }
   ],
   "source": [
    "print('Noite ' * 5)"
   ]
  },
  {
   "cell_type": "code",
   "execution_count": 21,
   "metadata": {},
   "outputs": [
    {
     "name": "stdout",
     "output_type": "stream",
     "text": [
      "5 5 5 5 5 \n"
     ]
    }
   ],
   "source": [
    "print('5 ' * 5)"
   ]
  },
  {
   "cell_type": "code",
   "execution_count": 22,
   "metadata": {},
   "outputs": [
    {
     "data": {
      "text/plain": [
       "int"
      ]
     },
     "execution_count": 22,
     "metadata": {},
     "output_type": "execute_result"
    }
   ],
   "source": [
    "a = 10\n",
    "type(a)"
   ]
  },
  {
   "cell_type": "code",
   "execution_count": 23,
   "metadata": {},
   "outputs": [
    {
     "name": "stdout",
     "output_type": "stream",
     "text": [
      "8.5\n"
     ]
    },
    {
     "data": {
      "text/plain": [
       "float"
      ]
     },
     "execution_count": 23,
     "metadata": {},
     "output_type": "execute_result"
    }
   ],
   "source": [
    "b = 8.5\n",
    "print(b)\n",
    "type(b)"
   ]
  },
  {
   "cell_type": "code",
   "execution_count": 24,
   "metadata": {},
   "outputs": [
    {
     "name": "stdout",
     "output_type": "stream",
     "text": [
      "João\n"
     ]
    },
    {
     "data": {
      "text/plain": [
       "str"
      ]
     },
     "execution_count": 24,
     "metadata": {},
     "output_type": "execute_result"
    }
   ],
   "source": [
    "c = 'João' #essa varíavel é string\n",
    "print(c)\n",
    "type(c)"
   ]
  },
  {
   "cell_type": "code",
   "execution_count": 25,
   "metadata": {},
   "outputs": [
    {
     "name": "stdout",
     "output_type": "stream",
     "text": [
      "25\n"
     ]
    }
   ],
   "source": [
    "a = 10\n",
    "b = 15 \n",
    "soma = a + b\n",
    "print(soma)"
   ]
  },
  {
   "cell_type": "code",
   "execution_count": 26,
   "metadata": {},
   "outputs": [
    {
     "name": "stdout",
     "output_type": "stream",
     "text": [
      "25\n"
     ]
    }
   ],
   "source": [
    "a = 10\n",
    "b = 15 \n",
    "#soma = a + b\n",
    "print(a + b)"
   ]
  },
  {
   "cell_type": "code",
   "execution_count": 27,
   "metadata": {},
   "outputs": [
    {
     "name": "stdout",
     "output_type": "stream",
     "text": [
      "2.5\n",
      "2\n"
     ]
    }
   ],
   "source": [
    "print(5 / 2) #Divisão completa\n",
    "print(5 // 2) #Resultado número inteiro"
   ]
  },
  {
   "attachments": {},
   "cell_type": "markdown",
   "metadata": {},
   "source": [
    "PARA TESTAR SE UM NÚMERO É POSITIVO \n",
    "\n",
    "DIVIDA POR 2, SE O RESTO FOR ZERO, ENTÃO O NÚMERO É POSITIVO. PARA ISSO USE O COMANDO % (MOD - MODULO) "
   ]
  },
  {
   "cell_type": "code",
   "execution_count": 28,
   "metadata": {},
   "outputs": [
    {
     "name": "stdout",
     "output_type": "stream",
     "text": [
      "0\n"
     ]
    }
   ],
   "source": [
    "print(4 % 2)"
   ]
  },
  {
   "cell_type": "code",
   "execution_count": 29,
   "metadata": {},
   "outputs": [
    {
     "name": "stdout",
     "output_type": "stream",
     "text": [
      "1\n"
     ]
    }
   ],
   "source": [
    "print(5 % 2)"
   ]
  },
  {
   "cell_type": "code",
   "execution_count": 30,
   "metadata": {},
   "outputs": [
    {
     "name": "stdout",
     "output_type": "stream",
     "text": [
      "7.133333333333333\n"
     ]
    }
   ],
   "source": [
    "nota1 = 7.5\n",
    "nota2 = 8.4\n",
    "nota3 = 5.5\n",
    "media = (nota1 + nota2 + nota3) / 3\n",
    "print(media)"
   ]
  },
  {
   "cell_type": "code",
   "execution_count": 31,
   "metadata": {},
   "outputs": [
    {
     "data": {
      "text/plain": [
       "'João'"
      ]
     },
     "execution_count": 31,
     "metadata": {},
     "output_type": "execute_result"
    }
   ],
   "source": [
    "input('Escreva seu nome: ')"
   ]
  },
  {
   "cell_type": "code",
   "execution_count": 32,
   "metadata": {},
   "outputs": [
    {
     "name": "stdout",
     "output_type": "stream",
     "text": [
      "A média de José é  7.13\n"
     ]
    }
   ],
   "source": [
    "nome = 'José'\n",
    "nota1 = 7.5\n",
    "nota2 = 8.4\n",
    "nota3 = 5.5\n",
    "media = (nota1 + nota2 + nota3) / 3\n",
    "print('A média de José é ', round(media,2))"
   ]
  },
  {
   "cell_type": "code",
   "execution_count": 33,
   "metadata": {},
   "outputs": [
    {
     "ename": "TypeError",
     "evalue": "unsupported operand type(s) for /: 'str' and 'int'",
     "output_type": "error",
     "traceback": [
      "\u001b[1;31m---------------------------------------------------------------------------\u001b[0m",
      "\u001b[1;31mTypeError\u001b[0m                                 Traceback (most recent call last)",
      "Cell \u001b[1;32mIn[33], line 8\u001b[0m\n\u001b[0;32m      5\u001b[0m nota3 \u001b[39m=\u001b[39m \u001b[39minput\u001b[39m(\u001b[39m\"\u001b[39m\u001b[39minsira terceira nota: \u001b[39m\u001b[39m\"\u001b[39m)\n\u001b[0;32m      7\u001b[0m \u001b[39m#fazendo calculo de média\u001b[39;00m\n\u001b[1;32m----> 8\u001b[0m media \u001b[39m=\u001b[39m (nota1 \u001b[39m+\u001b[39;49m nota2 \u001b[39m+\u001b[39;49m nota3)\u001b[39m/\u001b[39;49m\u001b[39m3\u001b[39;49m\n\u001b[0;32m     10\u001b[0m \u001b[39m#mostrando resultado\u001b[39;00m\n\u001b[0;32m     11\u001b[0m \u001b[39mprint\u001b[39m(\u001b[39m\"\u001b[39m\u001b[39mA média do(a) $\u001b[39m\u001b[39m{nome}\u001b[39;00m\u001b[39m é: \u001b[39m\u001b[39m\"\u001b[39m, \u001b[39mround\u001b[39m(media, \u001b[39m2\u001b[39m))\n",
      "\u001b[1;31mTypeError\u001b[0m: unsupported operand type(s) for /: 'str' and 'int'"
     ]
    }
   ],
   "source": [
    "#obtendo nome e nota\n",
    "nome = input(\"Insira o nome do aluno: \")\n",
    "nota1 = input(\"insira primeira nota: \")\n",
    "nota2 = input(\"insira segunda nota: \")\n",
    "nota3 = input(\"insira terceira nota: \")\n",
    "\n",
    "#fazendo calculo de média\n",
    "media = (nota1 + nota2 + nota3)/3\n",
    "\n",
    "#mostrando resultado\n",
    "print(\"A média do(a) ${nome} é: \", round(media, 2))"
   ]
  },
  {
   "cell_type": "code",
   "execution_count": null,
   "metadata": {},
   "outputs": [
    {
     "name": "stdout",
     "output_type": "stream",
     "text": [
      "Meu nome é João e minha cor favorita é azul\n"
     ]
    }
   ],
   "source": [
    "nome = 'João'\n",
    "cor = 'azul'\n",
    "\n",
    "print('Meu nome é '+nome+ ' e minha cor favorita é '+cor)"
   ]
  },
  {
   "cell_type": "code",
   "execution_count": null,
   "metadata": {},
   "outputs": [
    {
     "name": "stdout",
     "output_type": "stream",
     "text": [
      "Meu nome é João e minha cor favorite é azul.\n"
     ]
    }
   ],
   "source": [
    "print(f'Meu nome é {nome} e minha cor favorite é {cor}.')"
   ]
  },
  {
   "cell_type": "code",
   "execution_count": null,
   "metadata": {},
   "outputs": [],
   "source": [
    "#obtendo nome e nota\n",
    "nome = input(\"Insira o nome do aluno: \")\n",
    "nota1 = float(input(\"insira primeira nota: \")) \n",
    "nota2 = float(input(\"insira segunda nota: \")) \n",
    "nota3 = float(input(\"insira terceira nota: \")) \n",
    "\n",
    "#fazendo calculo de média\n",
    "media = (nota1 + nota2 + nota3)/3\n",
    "\n",
    "#mostrando resultado\n",
    "print(f\"A média do(a) {nome} é: \", round(media, 1))"
   ]
  },
  {
   "cell_type": "code",
   "execution_count": null,
   "metadata": {},
   "outputs": [],
   "source": [
    "nome - input('Qual seu nome? ')\n",
    "print(nome)"
   ]
  },
  {
   "cell_type": "code",
   "execution_count": null,
   "metadata": {},
   "outputs": [],
   "source": [
    "idade = input('Digite sua idade: ')\n",
    "print(idade * 2)"
   ]
  },
  {
   "cell_type": "code",
   "execution_count": null,
   "metadata": {},
   "outputs": [],
   "source": [
    "idade = int(input('Digite sua idade: ')) #faz um casting (transformação, fundição, conversão) no tipo da variável\n",
    "print(idade * 2)"
   ]
  },
  {
   "cell_type": "code",
   "execution_count": null,
   "metadata": {},
   "outputs": [
    {
     "name": "stdout",
     "output_type": "stream",
     "text": [
      "A média de João é 2.0\n",
      "PEGOU DP!\n"
     ]
    }
   ],
   "source": [
    "#obtendo nome e nota\n",
    "nome = input('Insira o nome do aluno:')\n",
    "nota1 = float(input('Insira a primeira nota: '))\n",
    "nota2 = float(input('Insira a segunda nota: '))\n",
    "nota3 = float(input('Insira a terceira nota: '))\n",
    "\n",
    "#fazendo calculo da média\n",
    "media = (nota1 + nota2 + nota3) / 3\n",
    "\n",
    "#mostrando resultado\n",
    "print(f'A média de {nome} é {media:.1f}') # \"{media:.1f}\" = \"round(media, 1)\" -> arredondar casa decimal\n",
    "\n",
    "if media >= 6:\n",
    "    print('APROVADO!')\n",
    "else:\n",
    "    print('PEGOU DP!')\n"
   ]
  },
  {
   "attachments": {},
   "cell_type": "markdown",
   "metadata": {},
   "source": [
    "LEIA A IDADE DE UMA PESSOA E MOSTRE A MENSAGEM:\n",
    "\n",
    "- MENOR OU IGUAL A 18 ANOS = ADOLESCENTE\n",
    "- MAIOR QUE 18 E MENOR QUE 65 = ADULTO\n",
    "- MAIOR QUE 65 = IDOSO"
   ]
  },
  {
   "cell_type": "code",
   "execution_count": null,
   "metadata": {},
   "outputs": [
    {
     "name": "stdout",
     "output_type": "stream",
     "text": [
      "Já faleceu!\n"
     ]
    }
   ],
   "source": [
    "#obtendo idade\n",
    "idades = int(input(\"Insira sua idade: \")) \n",
    "\n",
    "#estrutura condicional\n",
    "if idades <= 12:\n",
    "    print('CRIANÇA')\n",
    "\n",
    "elif idades > 12 and idades <= 18:\n",
    "    print('ADOLESCENTE')\n",
    "\n",
    "elif idades > 19 and idades < 65:\n",
    "    print('ADULTO')\n",
    "\n",
    "elif idades > 65 and idades < 100:\n",
    "    print('IDOSO')\n",
    "else:\n",
    "    print('Já faleceu!')"
   ]
  },
  {
   "attachments": {},
   "cell_type": "markdown",
   "metadata": {},
   "source": [
    "LER DOIS NUMEROS INTEIROS, EXECUTAR E MOSTRAR O RESULTADO DAS SEGUINTES OPERAÇÕES: ADIÇÃO, SUBTRAÇÃO, MULTIPLICAÇÃO E DIVISÃO\n"
   ]
  },
  {
   "cell_type": "code",
   "execution_count": 39,
   "metadata": {},
   "outputs": [
    {
     "name": "stdout",
     "output_type": "stream",
     "text": [
      "A soma é: 16.0\n",
      "A subtação é: 4.0\n",
      "A multiplicação é: 60.0\n",
      "A divisão é: 1.7\n"
     ]
    }
   ],
   "source": [
    "n1 = float(input('Digite o primeiro número: '))\n",
    "n2 = float(input('Digite o segundo número: '))\n",
    "\n",
    "print(f'A soma é: {n1 + n2}')\n",
    "print(f'A subtação é: {n1 - n2}')\n",
    "print(f'A multiplicação é: {n1 * n2}')\n",
    "print(f'A divisão é: {n1 / n2:.1f}')"
   ]
  }
 ],
 "metadata": {
  "kernelspec": {
   "display_name": "Python 3",
   "language": "python",
   "name": "python3"
  },
  "language_info": {
   "codemirror_mode": {
    "name": "ipython",
    "version": 3
   },
   "file_extension": ".py",
   "mimetype": "text/x-python",
   "name": "python",
   "nbconvert_exporter": "python",
   "pygments_lexer": "ipython3",
   "version": "3.11.2"
  },
  "orig_nbformat": 4
 },
 "nbformat": 4,
 "nbformat_minor": 2
}
