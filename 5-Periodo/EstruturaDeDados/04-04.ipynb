{
 "cells": [
  {
   "attachments": {},
   "cell_type": "markdown",
   "metadata": {},
   "source": [
    "# EXERCÍCIOS DE REVISÃO PARA A PROVA DE ESTRUTURA DE DADOS\n",
    "\n",
    "- 1 - Dadas duas listas P1 e P2, ambas com n valores reais que representam as notas de uma turma na prova 1 e na prova 2, respectvamente, escreva um programa que calcule a média da turma nas provas 1 e 2, imprimindo em qual das provas a turma obteve a melhor média.\n",
    "\n",
    "- 2  - Faça um programa que leia 10 números. Se o número lido for par, deverá ser armazenado em uma lista chamada PAR, se for impar, deverá ser armazenado em uma lista chamada IMPAR. No final, mostrar o conteúdo das duas listas. \n",
    "\n",
    "- 3 - Crie um programa que leia um número do teclado e imprima, dependendo do número digitado, o dia da semana, sendo que Domingo será 0. O programa deverá testar se o usuário digitou um numero dentro das opçãoes válidas.\n",
    "\n",
    "- 4 - Crie uma tupla preenchida com os 10 primeiros colocados do campeonato paulista de Futebol(2023), em ordem de colocação, depois mostre: \n",
    "    * os 3 primeiros \n",
    "    * os três últimos colocados \n",
    "    * os times em oredem alfabética\n",
    "    * em que posição está o Corinthians\n",
    "\n",
    "- 5 - Acesse a sala de aula no classroom com o código: qif5j5t e faça o download do arquivo (excel) “base-de-dados-cliente”. Em seguida, abra este arquivo no Python. No DataFrame gerado, transforme as colunas: LOJA, GÊNERO e VALOR em listas. Em seguida mostre:\n",
    "    * faça um programa que mostre a quantidade das vendas acima de 250,00 e as cidades onde foram efetuadas essas vendas. Armazene esses valores em uma nova lista. Mostre também a nova lista.\n",
    "    * Faça um programa que mostre quantas vendas foram feitas para a cidade de Uberaba.\n",
    "    * Quantos clientes são do sexo Feminino"
   ]
  },
  {
   "cell_type": "code",
   "execution_count": 29,
   "metadata": {},
   "outputs": [
    {
     "name": "stdout",
     "output_type": "stream",
     "text": [
      "Notas da Turma 1: [25.0]\n",
      "A média da turma é 25.0\n",
      "Notas da Turma 2: [52.0, 25.0]\n",
      "A média da turma é 12.5\n",
      "A média entre as turma foi de: 25.0\n"
     ]
    }
   ],
   "source": [
    "#1\n",
    "\n",
    "lista_P1 = []\n",
    "lista_P2 = []\n",
    "media_geral = []\n",
    "\n",
    "turma1 = int(input('Quantos alunos tem na turma 1? '))\n",
    "for i in range(turma1):\n",
    "    lista_P1.append(float(input(f'Digite {i+1}ª da Prova 1: ')))\n",
    "    soma = sum(lista_P1)\n",
    "    media_geral.append(soma)\n",
    "print('Notas da Turma 1:' ,lista_P1)\n",
    "print(f'A média da turma é {soma/turma1}')\n",
    "\n",
    "turma2 = int(input('Quantos alunos tem na turma 2? '))\n",
    "for i in range(turma2):\n",
    "    lista_P2.append(float(input(f'Digite {i+1}ª da Prova 1: ')))\n",
    "    soma = sum(lista_P1)\n",
    "    media_geral.append(soma)\n",
    "print('Notas da Turma 2:' ,lista_P2)\n",
    "print(f'A média da turma é {soma/turma2}')\n",
    "\n",
    "print(f'A média entre as turma foi de: {max(media_geral)}')\n"
   ]
  },
  {
   "cell_type": "code",
   "execution_count": 5,
   "metadata": {},
   "outputs": [
    {
     "name": "stdout",
     "output_type": "stream",
     "text": [
      "Par:  [2, 4, 6, 8, 10]\n",
      "Impar:  [1, 3, 5, 7, 9]\n"
     ]
    }
   ],
   "source": [
    "#2\n",
    "\n",
    "impar = []\n",
    "par = []\n",
    "\n",
    "for i in range(10):\n",
    "    numero = int(input(f'Digite o {i+1 }º número:'))\n",
    "    if (numero%2) == 0:\n",
    "        par.append(numero)\n",
    "    else:\n",
    "        impar.append(numero)\n",
    "print('Par: ',par)\n",
    "print('Impar: ',impar)\n",
    "    "
   ]
  },
  {
   "cell_type": "code",
   "execution_count": 18,
   "metadata": {},
   "outputs": [
    {
     "name": "stdout",
     "output_type": "stream",
     "text": [
      "Opção Invalida\n"
     ]
    }
   ],
   "source": [
    "#3\n",
    "\n",
    "diaSemana = ['Domingo','Segunda-feira','Terça-feira',' Quarta-feira', 'Quinta-feira', 'Sexta-feira', 'Sabado']\n",
    "\n",
    "dia = int(input('Digite um número'))\n",
    "if dia > 6:\n",
    "    print('Opção Invalida')\n",
    "else:\n",
    "    print(diaSemana[dia])"
   ]
  },
  {
   "cell_type": "code",
   "execution_count": 28,
   "metadata": {},
   "outputs": [
    {
     "name": "stdout",
     "output_type": "stream",
     "text": [
      "Classificação dos 3 primeiros:  ('Palmeiras', 'Água Santa', 'São Bernardo')\n",
      "Classificação dos 3 últimos:  ('Guarani', 'Botafogo-SP', 'Santo André')\n",
      "Ordem alfabética:  ['Botafogo-SP', 'Bragantino', 'Corinthians', 'Guarani', 'Mirassol', 'Palmeiras', 'Santo André', 'São Bernardo', 'São Paulo', 'Água Santa']\n",
      "Classifiação do Corinthians: 6 ªposição\n"
     ]
    }
   ],
   "source": [
    "#4\n",
    "\n",
    "classificação = ('Palmeiras','Água Santa', 'São Bernardo', 'São Paulo', 'Bragantino', 'Corinthians', 'Mirassol', 'Guarani', 'Botafogo-SP', 'Santo André')\n",
    "print('Classificação dos 3 primeiros: ', classificação[:3])\n",
    "print('Classificação dos 3 últimos: ', classificação[-3:])\n",
    "print(\"Ordem alfabética: \",sorted(classificação))\n",
    "print('Classifiação do Corinthians:',classificação.index('Corinthians')+1,'ªposição')\n"
   ]
  },
  {
   "cell_type": "markdown",
   "metadata": {},
   "source": []
  }
 ],
 "metadata": {
  "kernelspec": {
   "display_name": "Python 3",
   "language": "python",
   "name": "python3"
  },
  "language_info": {
   "codemirror_mode": {
    "name": "ipython",
    "version": 3
   },
   "file_extension": ".py",
   "mimetype": "text/x-python",
   "name": "python",
   "nbconvert_exporter": "python",
   "pygments_lexer": "ipython3",
   "version": "3.10.4"
  },
  "orig_nbformat": 4
 },
 "nbformat": 4,
 "nbformat_minor": 2
}
