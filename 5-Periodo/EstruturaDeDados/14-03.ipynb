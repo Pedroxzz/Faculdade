{
 "cells": [
  {
   "cell_type": "markdown",
   "metadata": {},
   "source": [
    "FOR - ESTRUTURA DE REPETIÇÃO "
   ]
  },
  {
   "cell_type": "code",
   "execution_count": null,
   "metadata": {},
   "outputs": [],
   "source": [
    "for contador in range(5):\n",
    "    print('Pyhton')"
   ]
  },
  {
   "cell_type": "code",
   "execution_count": null,
   "metadata": {},
   "outputs": [],
   "source": [
    "for contador in range(5):\n",
    "    print(contador)\n"
   ]
  },
  {
   "cell_type": "code",
   "execution_count": null,
   "metadata": {},
   "outputs": [],
   "source": [
    "for contador in range(5):\n",
    "    print('Python')\n",
    "    print('Chocolate')"
   ]
  },
  {
   "cell_type": "code",
   "execution_count": null,
   "metadata": {},
   "outputs": [],
   "source": [
    "for oontador in range(5):\n",
    "    print('Python')\n",
    "print('Chocolate')"
   ]
  },
  {
   "cell_type": "code",
   "execution_count": null,
   "metadata": {},
   "outputs": [],
   "source": [
    "a = 20\n",
    "for contador in a:\n",
    "    print('Python')"
   ]
  },
  {
   "cell_type": "code",
   "execution_count": null,
   "metadata": {},
   "outputs": [],
   "source": [
    "texto = 'computador'\n",
    "\n",
    "for contador in texto:\n",
    "    print('Python')"
   ]
  },
  {
   "cell_type": "code",
   "execution_count": null,
   "metadata": {},
   "outputs": [],
   "source": [
    "texto = 'computador de mesa'\n",
    "\n",
    "for contador in texto:\n",
    "    print(contador)"
   ]
  },
  {
   "cell_type": "code",
   "execution_count": null,
   "metadata": {},
   "outputs": [],
   "source": [
    "texto = 'computador de mesa'\n",
    "\n",
    "for contador in texto:\n",
    "    print(contador, end=\"\")"
   ]
  },
  {
   "attachments": {},
   "cell_type": "markdown",
   "metadata": {},
   "source": [
    "WHILE (ENQUANTO) - LAÇOS DE REPETIÇÃO"
   ]
  },
  {
   "cell_type": "code",
   "execution_count": null,
   "metadata": {},
   "outputs": [],
   "source": [
    "cont = 0\n",
    "\n",
    "while cont < 10:\n",
    "    print('Python')"
   ]
  },
  {
   "cell_type": "code",
   "execution_count": null,
   "metadata": {},
   "outputs": [],
   "source": [
    "cont = 0        #variavel auxiliar / contador\n",
    "\n",
    "while cont < 10:\n",
    "    cont = cont+1       #soma um na vatiavel cont\n",
    "    #cont+=1            #outra forma de somar\n",
    "    print('Python')"
   ]
  },
  {
   "cell_type": "code",
   "execution_count": null,
   "metadata": {},
   "outputs": [],
   "source": [
    "a = 0\n",
    "while a < 10:\n",
    "    a+=1\n",
    "    if a == 5:\n",
    "        print('Aula')\n",
    "print(a)"
   ]
  },
  {
   "cell_type": "code",
   "execution_count": null,
   "metadata": {},
   "outputs": [],
   "source": [
    "a = 0\n",
    "\n",
    "while a < 10:\n",
    "    a+=1\n",
    "    if a == 5:\n",
    "        continue\n",
    "        #break\n",
    "print(a)"
   ]
  },
  {
   "cell_type": "code",
   "execution_count": null,
   "metadata": {},
   "outputs": [],
   "source": [
    "a = 0\n",
    "\n",
    "while True:     #loop infinito\n",
    "    if a == 0:\n",
    "        print('Python')\n",
    "        #break      #para sair do looping"
   ]
  },
  {
   "cell_type": "code",
   "execution_count": null,
   "metadata": {},
   "outputs": [],
   "source": [
    "cont = 0\n",
    "\n",
    "while cont < 3:\n",
    "    cont+=1\n",
    "    nome = input('Nome: ')\n",
    "else:       #se não funciona aqui também\n",
    "    print('FIM DO PROGRAMA')"
   ]
  },
  {
   "cell_type": "code",
   "execution_count": null,
   "metadata": {},
   "outputs": [],
   "source": []
  },
  {
   "cell_type": "code",
   "execution_count": null,
   "metadata": {},
   "outputs": [],
   "source": [
    "cont = 0\n",
    "while cont < 5:\n",
    "    cont+=1\n",
    "    nome = input('Digite o nome ou 9 para sair: ')\n",
    "    #nome = input(f'Digite o nome {cont} ou 9 para sair: ')     #aqui já sou eu fazendo firula\n",
    "    if nome == '9':       #com os nomes funciona, pórem com o 9 não\n",
    "        break\n",
    "print('FIM DO PROGRAMA')"
   ]
  },
  {
   "cell_type": "code",
   "execution_count": null,
   "metadata": {},
   "outputs": [],
   "source": [
    "cont = 0\n",
    "while cont < 5:\n",
    "    cont +=1\n",
    "    nome = int(input('Digite o nome ou 9 para sair: '))     #converte em int\n",
    "    if nome == 9:       #aqui só funciona o numero 9\n",
    "        break\n",
    "print('FIM DO PROGRAMA')"
   ]
  },
  {
   "cell_type": "code",
   "execution_count": null,
   "metadata": {},
   "outputs": [],
   "source": [
    "n1 = int(input('Número1:'))\n",
    "n2 = int(input('Número2:'))\n",
    "\n",
    "soma = n1 + n2\n",
    "print(f'A soma é {soma}')"
   ]
  },
  {
   "cell_type": "code",
   "execution_count": null,
   "metadata": {},
   "outputs": [],
   "source": [
    "a= 10\n",
    "b = 6\n",
    "\n",
    "if a > 5 and b == 6:\n",
    "    print('Gato')\n",
    "else:\n",
    "    print('Cachorro')"
   ]
  },
  {
   "attachments": {},
   "cell_type": "markdown",
   "metadata": {},
   "source": [
    "EXERCÍCIOS\n",
    " \n",
    "\n",
    "\n",
    "1.   Faça um programa em Python que simule um calculadora. O programa deverá ler dois números e em seguida mostrar um menu com as operações de soma, subtração, multiplicação e divisão, para que o usuário possa escolher. O programa só terminará quando o usuário escolher a opçao de sair.\n",
    "\n",
    "2.   Escreva um programa que leia o nome e três notas de um aluno, calcule sua média e mostre no final se está aprovado ou reprovado. Para ler as notas use uma estrutura de repetição.\n",
    "\n",
    "3.   Faça um programa que imprima a tabuada do 7. Faça duas versões: uma com a estrutura ***while*** e outra com a estutura ***for***.\n",
    "\n",
    "4.   Acrescente ao programa 2 a leitura de frequencia do aluno, depois, mostre que o aluno estará APROVADO somente se tiver média maior ou igual a 6 **e** frequencia maior ou igual a 75%, senão, estará REPROVADO. \n",
    "\n"
   ]
  },
  {
   "cell_type": "code",
   "execution_count": null,
   "metadata": {},
   "outputs": [],
   "source": [
    "#1\n",
    "\n",
    "#caso queira digitar toda vez o número\n",
    "#num1 = float(input(\"Digite o primeiro número: \"))\n",
    "#num2 = float(input(\"Digite o segundo número: \"))\n",
    "\n",
    "while True:\n",
    "    #caso queira digitar toda vez o número\n",
    "    num1 = float(input(\"Digite o primeiro número: \"))\n",
    "    num2 = float(input(\"Digite o segundo número: \"))\n",
    "    print('#'*30)\n",
    "    print('OPÇÕES:')\n",
    "    print(\"1 - Soma\")\n",
    "    print(\"2 - Subtração\")\n",
    "    print(\"3 - Multiplicação\")\n",
    "    print(\"4 - Divisão\")\n",
    "    print(\"5 - Sair\")\n",
    "    print('#'*30)\n",
    "    \n",
    "    op = int(input(\"Selecione a operação desejada: \"))\n",
    "\n",
    "    if op == 1:\n",
    "        resultado = num1 + num2\n",
    "        print(f'A soma entre {num1} e {num2} é: {resultado}')\n",
    "    elif op == 2:\n",
    "        resultado = num1 - num2\n",
    "        print(f'A subtração entre {num1} e {num2} é: {resultado}')\n",
    "    elif op == 3:\n",
    "        resultado = num1 * num2\n",
    "        print(f'A multiplicação entre {num1} e {num2} é: {resultado}')\n",
    "    elif op == 4:\n",
    "        resultado = num1 / num2\n",
    "        print(f'A divisão entre {num1} e {num2} é: {resultado}')\n",
    "    elif op == 5:\n",
    "        break\n",
    "    else:\n",
    "        print('Opção inválida !!!\\nDigite novamente')\n"
   ]
  },
  {
   "cell_type": "code",
   "execution_count": 62,
   "metadata": {},
   "outputs": [
    {
     "name": "stdout",
     "output_type": "stream",
     "text": [
      "Sua nota foi 8.0, você passou.\n"
     ]
    }
   ],
   "source": [
    "#2\n",
    "nome = input('Digite seu nome: ')\n",
    "media = 0\n",
    "\n",
    "for contador in range(3):\n",
    "    n = int(input(f'Digite a nota {contador+1}: '))\n",
    "    media = media + n\n",
    "media = media / 3\n",
    "if media >= 6:\n",
    "    print(f'Sua nota foi {media}, você passou.')\n",
    "else:\n",
    "    print(f'Sua nota foi {media}, você não passou.')"
   ]
  },
  {
   "cell_type": "code",
   "execution_count": null,
   "metadata": {},
   "outputs": [],
   "source": [
    "#3¹\n",
    "\n",
    "for cont in range(10):\n",
    "    num = 7\n",
    "    print(f'{num} x {cont + 1} = {7 * (cont + 1)}')"
   ]
  },
  {
   "cell_type": "code",
   "execution_count": null,
   "metadata": {},
   "outputs": [],
   "source": [
    "#3¹¬²\n",
    "\n",
    "tabuada = int(input('Tabuada do número: '))\n",
    "\n",
    "for cont in range(10):\n",
    "    print(f'{tabuada} x {cont + 1} = {tabuada * (cont + 1)}')"
   ]
  },
  {
   "cell_type": "code",
   "execution_count": 68,
   "metadata": {},
   "outputs": [
    {
     "name": "stdout",
     "output_type": "stream",
     "text": [
      "7 x 1 = 7\n",
      "7 x 2 = 14\n",
      "7 x 3 = 21\n",
      "7 x 4 = 28\n",
      "7 x 5 = 35\n",
      "7 x 6 = 42\n",
      "7 x 7 = 49\n",
      "7 x 8 = 56\n",
      "7 x 9 = 63\n",
      "7 x 10 = 70\n"
     ]
    }
   ],
   "source": [
    "#3²\n",
    "\n",
    "cont = 0\n",
    "while cont < 10:\n",
    "    print(f'7 x {cont+1} = {7*(cont+1)}')\n",
    "    cont+=1"
   ]
  }
 ],
 "metadata": {
  "kernelspec": {
   "display_name": "Python 3",
   "language": "python",
   "name": "python3"
  },
  "language_info": {
   "codemirror_mode": {
    "name": "ipython",
    "version": 3
   },
   "file_extension": ".py",
   "mimetype": "text/x-python",
   "name": "python",
   "nbconvert_exporter": "python",
   "pygments_lexer": "ipython3",
   "version": "3.11.1"
  },
  "orig_nbformat": 4,
  "vscode": {
   "interpreter": {
    "hash": "a1e72d1e909c75243f877108619f104193fe32becda6570d73d5bb8e928ab59d"
   }
  }
 },
 "nbformat": 4,
 "nbformat_minor": 2
}
