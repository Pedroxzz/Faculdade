{
  "cells": [
    {
      "attachments": {},
      "cell_type": "markdown",
      "metadata": {
        "id": "yxJWv3o-q_k9"
      },
      "source": [
        "#Função\n",
        "\n",
        "Em programação, uma função é um bloco de códigos que recebe um conjunto de argumentos, realiza uma sequência de instruções e retorna um resultado. As funções são usadas para organizar o código em partes menores, reutilizáveis e com uma finalidade específica. É fundamental que as funções fiquem em uma área específica do seu código."
      ]
    },
    {
      "cell_type": "code",
      "execution_count": null,
      "metadata": {
        "id": "04JHKXqusHsK"
      },
      "outputs": [],
      "source": [
        "#ÁREA DE FUNÇÕES \n",
        "\n",
        "def mensagem(): #cria uma função qme não recebe parametro \n",
        "  print('Olá mundo')\n",
        "\n",
        "def soma():\n",
        "  a = 10\n",
        "  b = 30\n",
        "  print(a+b)\n",
        "\n",
        "def soma1(a,b): #cria uma finção que recebe os parâmetros a e b\n",
        "  print(a+b)\n",
        "\n",
        "def mult(a,b): #cria uma função com parâmetros \n",
        "  resultado = a * b #armazena o resultado na variável \"resultado\"\n",
        "  return resultado  #retorna o resultado para o programa principal\n",
        "\n",
        "def salario_liquido(salario, desconto):  \n",
        "  return salario - desconto"
      ]
    },
    {
      "cell_type": "code",
      "execution_count": null,
      "metadata": {
        "colab": {
          "base_uri": "https://localhost:8080/"
        },
        "id": "Ox33ZLBewVlx",
        "outputId": "c690306a-6b09-404a-c24e-73d1b210bc86"
      },
      "outputs": [
        {
          "name": "stdout",
          "output_type": "stream",
          "text": [
            "Olá mundo\n"
          ]
        }
      ],
      "source": [
        "mensagem()  #chama a função mensagem()"
      ]
    },
    {
      "cell_type": "code",
      "execution_count": null,
      "metadata": {
        "colab": {
          "base_uri": "https://localhost:8080/"
        },
        "id": "GOXiXHmKwfRQ",
        "outputId": "e437594b-90ea-45ba-9f4b-fe8c9efa6e63"
      },
      "outputs": [
        {
          "name": "stdout",
          "output_type": "stream",
          "text": [
            "40\n"
          ]
        }
      ],
      "source": [
        "soma()"
      ]
    },
    {
      "cell_type": "code",
      "execution_count": null,
      "metadata": {
        "colab": {
          "base_uri": "https://localhost:8080/"
        },
        "id": "m00grUt3xIhm",
        "outputId": "e0c99587-388c-4630-ddbc-25696e41fea5"
      },
      "outputs": [
        {
          "name": "stdout",
          "output_type": "stream",
          "text": [
            "14\n"
          ]
        }
      ],
      "source": [
        "soma1(6,8) #chama a função soma1(), passando os parâmretros 6 e 8"
      ]
    },
    {
      "cell_type": "code",
      "execution_count": null,
      "metadata": {
        "colab": {
          "base_uri": "https://localhost:8080/"
        },
        "id": "fPQJSAYdyjz7",
        "outputId": "2efb8b99-062d-4682-9e00-1e935bd00cea"
      },
      "outputs": [
        {
          "data": {
            "text/plain": [
              "16"
            ]
          },
          "execution_count": 18,
          "metadata": {},
          "output_type": "execute_result"
        }
      ],
      "source": [
        "mult(2,8)"
      ]
    },
    {
      "cell_type": "code",
      "execution_count": null,
      "metadata": {
        "colab": {
          "base_uri": "https://localhost:8080/"
        },
        "id": "qR7IalOz0Kxr",
        "outputId": "ff605c86-2c4b-492d-cbca-d13763b8bd01"
      },
      "outputs": [
        {
          "data": {
            "text/plain": [
              "800"
            ]
          },
          "execution_count": 20,
          "metadata": {},
          "output_type": "execute_result"
        }
      ],
      "source": [
        "salario_liquido(1000,200)"
      ]
    },
    {
      "cell_type": "code",
      "execution_count": null,
      "metadata": {
        "colab": {
          "base_uri": "https://localhost:8080/"
        },
        "id": "siBi_0vS0ZEQ",
        "outputId": "95479e6a-94e4-49b8-b14c-aeb2ece21161"
      },
      "outputs": [
        {
          "name": "stdout",
          "output_type": "stream",
          "text": [
            "Número 1: 12\n",
            "Número 2: 8\n",
            "20\n"
          ]
        }
      ],
      "source": [
        "\n",
        "a = int(input('Número 1: '))\n",
        "b = int(input('Número 2: '))\n",
        "soma1(a,b)"
      ]
    },
    {
      "cell_type": "code",
      "execution_count": null,
      "metadata": {
        "colab": {
          "base_uri": "https://localhost:8080/"
        },
        "id": "bDlgGAZu03Me",
        "outputId": "aeeb9699-91d3-411b-dc80-a27d59845542"
      },
      "outputs": [
        {
          "name": "stdout",
          "output_type": "stream",
          "text": [
            "Número 1: 6\n",
            "Número 2: 3\n",
            "9\n"
          ]
        }
      ],
      "source": [
        "#Criando variáveis com nomes diferentes \n",
        "\n",
        "x = int(input('Número 1: '))\n",
        "y = int(input('Número 2: '))\n",
        "soma1(x,y)"
      ]
    },
    {
      "attachments": {},
      "cell_type": "markdown",
      "metadata": {
        "id": "FREVjSFQ1W6l"
      },
      "source": [
        "1. Elabore um programa que calcule a área de um triangulo. Use função."
      ]
    },
    {
      "cell_type": "code",
      "execution_count": null,
      "metadata": {
        "colab": {
          "base_uri": "https://localhost:8080/"
        },
        "id": "G_Oqr3r61eYE",
        "outputId": "62364503-e61f-45cf-c9d8-0f98ac80e54e"
      },
      "outputs": [
        {
          "name": "stdout",
          "output_type": "stream",
          "text": [
            "Base: 10\n",
            "Altura: 5\n",
            "A área do triangulo é: 25.0\n"
          ]
        }
      ],
      "source": [
        "def area_triangulo(base, altura):\n",
        "  return (base * altura) / 2\n",
        "\n",
        "base = float(input('Base: '))\n",
        "altura = float(input('Altura: '))\n",
        "print(f'A área do triangulo é: {area_triangulo(base, altura)}')"
      ]
    },
    {
      "attachments": {},
      "cell_type": "markdown",
      "metadata": {
        "id": "-_fxHu8K3ky4"
      },
      "source": [
        "2. Leia um nome e 3 notas de um aluno e calcule sua média. Se a média for maior ou igual a 6, mostre APROVADO, se não, REPROVADO. Use uma função para calcular a média e outra função para mostrar o resultado."
      ]
    },
    {
      "cell_type": "code",
      "execution_count": null,
      "metadata": {
        "colab": {
          "base_uri": "https://localhost:8080/"
        },
        "id": "UfBoN-6V3khZ",
        "outputId": "aa637d12-9e89-45c4-faf5-7cae9fd123b7"
      },
      "outputs": [
        {
          "name": "stdout",
          "output_type": "stream",
          "text": [
            "Digite seu nome: 5\n",
            "Digite a 1ª nota: 5\n",
            "Digite a 2ª nota: 5\n",
            "Digite a 3ª nota: 4\n",
            "A média do aluno foi 4.7\n",
            "REPROVADO\n"
          ]
        }
      ],
      "source": [
        "def media(n1, n2, n3):\n",
        "  mediaf = (n1 + n2 + n3)/3\n",
        "  print(f'A média do aluno foi {mediaf:.1f}')\n",
        "  return mediaf\n",
        "\n",
        "def resultado(media):\n",
        "  if media >= 6:\n",
        "    print('APROVADO')\n",
        "  else:\n",
        "    print('REPROVADO')\n",
        "\n",
        "nome = input('Digite seu nome: ')\n",
        "n1 = float(input('Digite a 1ª nota: '))\n",
        "n2 = float(input('Digite a 2ª nota: '))\n",
        "n3 = float(input('Digite a 3ª nota: '))\n",
        "\n",
        "media_final = media(n1,n2,n3)\n",
        "resultado(media_final)"
      ]
    },
    {
      "attachments": {},
      "cell_type": "markdown",
      "metadata": {
        "id": "vBzXsS5XB1Ra"
      },
      "source": [
        "#EXERCÍCIOS DE PYTHON COM FUNÇÕES\n",
        "\n",
        "1. Elabore um programa que leia dois números e imprima o maior deles. Use função\n",
        "2. Faça um programa que leia o nome e idade de uma pessoa. Determine critérios para mostrar se a pessoa é ADOLESCENTE, ADULTO, IDOSO. Use função\n",
        "3. Ler a temperatura em graus Celsius e apresentá-la convertida em grays Fahrenheit. A fórmula de conversão é: f=(9*c+160)/5. Elabore:\n",
        "\n",
        "\n",
        "*   uma função para ler e retornar o valor da temperatura (rão recebe parâmetro)\n",
        "*   uma função para fazer o cálculo (recebe como parâmetro a temperatura em graus Celsius)\n",
        "*   uma função para mostrar o resultado, recebendo como parâmetro o valor e fazendo a impressão do resultado"
      ]
    },
    {
      "cell_type": "code",
      "execution_count": null,
      "metadata": {
        "colab": {
          "base_uri": "https://localhost:8080/"
        },
        "id": "aDBldhOGDI8u",
        "outputId": "2450db3d-3400-4c42-f627-0a139078c71a"
      },
      "outputs": [
        {
          "name": "stdout",
          "output_type": "stream",
          "text": [
            "Digite o 1º: 10\n",
            "Digite o 2º: 20\n",
            "20.0\n"
          ]
        }
      ],
      "source": [
        "#1 \n",
        "n1 = float(input('Digite o 1º: '))\n",
        "n2 = float(input('Digite o 2º: '))\n",
        "\n",
        "def max(n1,n2):\n",
        "  if n1 > n2 :\n",
        "    return n1\n",
        "  else:\n",
        "    return n2\n",
        "print(max(n1,n2))\n"
      ]
    },
    {
      "cell_type": "code",
      "execution_count": 2,
      "metadata": {
        "colab": {
          "base_uri": "https://localhost:8080/"
        },
        "id": "fOtzWSK7E_ZT",
        "outputId": "6761db04-c412-4d58-b949-1b3a495325d1"
      },
      "outputs": [
        {
          "name": "stdout",
          "output_type": "stream",
          "text": [
            "<function criterio at 0x000001C8C78F6980>\n"
          ]
        }
      ],
      "source": [
        "#2\n",
        "\n",
        "nome = input('Digite seu nome: ')\n",
        "idade = int(input('Digite a sua idade: '))\n",
        "\n",
        "def criterio(idade):\n",
        "  if idade < 18:\n",
        "    print('Adolescente')\n",
        "  elif idade > 18 and idade < 60:\n",
        "    print('Adulto')\n",
        "  else:\n",
        "    print('Idoso')\n",
        "\n",
        "print(criterio(idade))\n"
      ]
    },
    {
      "cell_type": "code",
      "execution_count": 2,
      "metadata": {},
      "outputs": [
        {
          "name": "stdout",
          "output_type": "stream",
          "text": [
            "A temperatura em Fahrenheit é 122.0 ºF\n"
          ]
        }
      ],
      "source": [
        "#3\n",
        "\n",
        "\"\"\"def f1():\n",
        "    celsius = float(input('Digite a temperaturta em Celsius'))\n",
        "    fahrenheit = (9*celsius +160)/5\n",
        "    print(f'A temperatura em Fahrenheit é {fahrenheit} ºF') \"\"\"\n",
        "\n",
        "\"\"\" celsius = float(input('Digite a temperatura em Celsius: '))\n",
        "def f2(celsius):\n",
        "    fahrenheit = (9*celsius +160)/5\n",
        "    return fahrenheit\n",
        "print(f'A temperatura em Fahrenheit é {f2(celsius)} ºF') \"\"\"\n"
      ]
    }
  ],
  "metadata": {
    "colab": {
      "provenance": []
    },
    "kernelspec": {
      "display_name": "Python 3",
      "name": "python3"
    },
    "language_info": {
      "codemirror_mode": {
        "name": "ipython",
        "version": 3
      },
      "file_extension": ".py",
      "mimetype": "text/x-python",
      "name": "python",
      "nbconvert_exporter": "python",
      "pygments_lexer": "ipython3",
      "version": "3.11.3"
    }
  },
  "nbformat": 4,
  "nbformat_minor": 0
}
