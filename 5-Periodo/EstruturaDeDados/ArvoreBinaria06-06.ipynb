{
 "cells": [
  {
   "cell_type": "code",
   "execution_count": 6,
   "metadata": {},
   "outputs": [],
   "source": [
    "\n",
    "class No: #cria a classe do nó (início da árvore)\n",
    "  def __init__(self, valor):\n",
    "    self.valor = valor\n",
    "    self.esquerda = None\n",
    "    self.direita = None\n",
    "\n",
    "  def mostra_no(self):\n",
    "    print(self.valor)\n",
    "\n",
    "\n",
    "class ArvoreBinaria: #cria a classe para manipular a árvore\n",
    "  def __init__(self):\n",
    "    self.raiz = None\n",
    "    self.ligacoes = [] #cria uma lista que armazenará os valores da árvore\n",
    "\n",
    "  def inserir(self, valor):\n",
    "    novo = No(valor)\n",
    "    # Se a árvore estiver vazia\n",
    "    if self.raiz == None:\n",
    "      self.raiz = novo\n",
    "    else:\n",
    "      atual = self.raiz #a variável recebe o nó atual para fazer as verificações\n",
    "      while True:\n",
    "        pai = atual\n",
    "        #Esquerda\n",
    "        if valor < atual.valor:\n",
    "          atual = atual.esquerda\n",
    "          if atual == None:\n",
    "            pai.esquerda = novo\n",
    "            self.ligacoes.append(str(pai.valor) + '->' + str(novo.valor))\n",
    "            return #sai do while True\n",
    "        #Direita\n",
    "        else:\n",
    "          atual = atual.direita\n",
    "          if atual == None:\n",
    "            pai.direita = novo\n",
    "            self.ligacoes.append(str(pai.valor) + '->' + str(novo.valor))\n",
    "            return\n",
    "\n",
    "  def pesquisar(self, valor):\n",
    "    atual = self.raiz\n",
    "    while atual.valor != valor:\n",
    "       if valor < atual.valor:\n",
    "         atual = atual.esquerda\n",
    "       else:\n",
    "         atual = atual.direita\n",
    "       if atual == None:\n",
    "         return None\n",
    "    return atual       \n"
   ]
  },
  {
   "attachments": {},
   "cell_type": "markdown",
   "metadata": {},
   "source": [
    "#### Inserção e Visualização"
   ]
  },
  {
   "cell_type": "code",
   "execution_count": 7,
   "metadata": {},
   "outputs": [],
   "source": [
    "arvore = ArvoreBinaria()"
   ]
  },
  {
   "cell_type": "code",
   "execution_count": 8,
   "metadata": {},
   "outputs": [],
   "source": [
    "arvore.inserir(53)\n",
    "arvore.inserir(30)\n",
    "arvore.inserir(14)\n",
    "arvore.inserir(39)\n",
    "arvore.inserir(9)\n",
    "arvore.inserir(23)\n",
    "arvore.inserir(34)\n",
    "arvore.inserir(49)\n",
    "arvore.inserir(72)\n",
    "arvore.inserir(61)\n",
    "arvore.inserir(84)\n",
    "arvore.inserir(79)"
   ]
  },
  {
   "cell_type": "code",
   "execution_count": 9,
   "metadata": {},
   "outputs": [
    {
     "data": {
      "text/plain": [
       "30"
      ]
     },
     "execution_count": 9,
     "metadata": {},
     "output_type": "execute_result"
    }
   ],
   "source": [
    "arvore.raiz.esquerda.valor"
   ]
  }
 ],
 "metadata": {
  "kernelspec": {
   "display_name": "Python 3",
   "language": "python",
   "name": "python3"
  },
  "language_info": {
   "codemirror_mode": {
    "name": "ipython",
    "version": 3
   },
   "file_extension": ".py",
   "mimetype": "text/x-python",
   "name": "python",
   "nbconvert_exporter": "python",
   "pygments_lexer": "ipython3",
   "version": "3.11.3"
  },
  "orig_nbformat": 4
 },
 "nbformat": 4,
 "nbformat_minor": 2
}
